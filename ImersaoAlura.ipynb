{
  "nbformat": 4,
  "nbformat_minor": 0,
  "metadata": {
    "colab": {
      "provenance": [],
      "authorship_tag": "ABX9TyNLUoZN01ErePVwHMTbICrg",
      "include_colab_link": true
    },
    "kernelspec": {
      "name": "python3",
      "display_name": "Python 3"
    },
    "language_info": {
      "name": "python"
    }
  },
  "cells": [
    {
      "cell_type": "markdown",
      "metadata": {
        "id": "view-in-github",
        "colab_type": "text"
      },
      "source": [
        "<a href=\"https://colab.research.google.com/github/gmarqueszx/Desafio_Imers-o_Alura/blob/main/ImersaoAlura.ipynb\" target=\"_parent\"><img src=\"https://colab.research.google.com/assets/colab-badge.svg\" alt=\"Open In Colab\"/></a>"
      ]
    },
    {
      "cell_type": "code",
      "execution_count": 4,
      "metadata": {
        "colab": {
          "base_uri": "https://localhost:8080/"
        },
        "id": "dXbwtmC_mpVR",
        "outputId": "b4540193-ec6d-47b3-fa21-ad0028d6ec02"
      },
      "outputs": [
        {
          "output_type": "stream",
          "name": "stdout",
          "text": [
            "------------------------------\n",
            "Compensação de Energia Solar\n",
            "------------------------------\n",
            "Beneficiário 1 :  28.57%\n",
            "Beneficiário 2 :  57.14%\n",
            "Beneficiário 3 :  14.29%\n",
            "------------------------------\n"
          ]
        }
      ],
      "source": [
        "\n",
        "import google.generativeai as genai\n",
        "\n",
        "from google.colab import userdata\n",
        "api_key = userdata.get(\"SECRET_KEY\")\n",
        "genai.configure(api_key=api_key)\n",
        "\n",
        "def calcular_compensacao(kwp, irradiacao, consumo_geradora, beneficiarios):\n",
        "  \"\"\"\n",
        "  Calcula a compensação de energia solar para beneficiários.\n",
        "\n",
        "  Args:\n",
        "    kwp: Potência do sistema fotovoltaico em kWp.\n",
        "    irradiacao: Irradiação solar média mensal no local em kWh/m²/mês.\n",
        "    consumo_geradora: Consumo mensal da unidade geradora em kWh.\n",
        "    beneficiarios: Um dicionário com o nome do beneficiário como chave e o consumo mensal em kWh como valor.\n",
        "\n",
        "  Returns:\n",
        "    Um dicionário com o nome do beneficiário como chave e a porcentagem da compensação como valor.\n",
        "  \"\"\"\n",
        "\n",
        "  # Calcula a geração de energia mensal\n",
        "  geracao_mensal = kwp * irradiacao\n",
        "\n",
        "  # Calcula o excedente de créditos\n",
        "  excedente = geracao_mensal - consumo_geradora\n",
        "\n",
        "  # Calcula a porcentagem de compensação para cada beneficiário\n",
        "  compensacao = {}\n",
        "  for i, (beneficiario, consumo) in enumerate(beneficiarios.items()):\n",
        "    percentual = (consumo / sum(beneficiarios.values())) * 100\n",
        "    compensacao[f\"Beneficiário {i+1}\"] = percentual\n",
        "\n",
        "  return compensacao\n",
        "\n",
        "\n",
        "# Exemplo de uso\n",
        "kwp = 11.4  # kWp\n",
        "irradiacao = 130  # kWh/m²/mês\n",
        "consumo_geradora = 120  # kWh\n",
        "beneficiarios = {\n",
        "    \"B1\": 100,  # kWh\n",
        "    \"B2\": 200,  # kWh\n",
        "    \"B3\": 50   # kWh\n",
        "}\n",
        "\n",
        "compensacao = calcular_compensacao(kwp, irradiacao, consumo_geradora, beneficiarios)\n",
        "\n",
        "\n",
        "print(\"-\" * 30)\n",
        "print(\"Compensação de Energia Solar\")\n",
        "print(\"-\" * 30)\n",
        "for beneficiario, percentual in compensacao.items():\n",
        "  print(f\"{beneficiario:<15}: {percentual:6.2f}%\")\n",
        "print(\"-\" * 30)"
      ]
    }
  ]
}